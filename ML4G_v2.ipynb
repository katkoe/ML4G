{
 "cells": [
  {
   "cell_type": "markdown",
   "id": "3f9a3cc9-f2e3-473a-8286-d9377071d310",
   "metadata": {},
   "source": [
    "# Version 2 (sparse matrices...)\n",
    "### I created the last notebook naively and completely missed that the discusses method operates on sparse matrices, so I'm starting again from scratch"
   ]
  },
  {
   "cell_type": "markdown",
   "id": "a56c292f-2131-4f8e-a58b-03aff54d508a",
   "metadata": {},
   "source": [
    "# Generating a sparse matrix representation of a graph..."
   ]
  },
  {
   "cell_type": "code",
   "execution_count": null,
   "id": "96d4159d-e344-4900-9c07-e02cd1556604",
   "metadata": {},
   "outputs": [],
   "source": []
  },
  {
   "cell_type": "code",
   "execution_count": 4,
   "id": "508eddc7-743a-4d1e-a43c-aad72c579ee7",
   "metadata": {},
   "outputs": [
    {
     "name": "stdout",
     "output_type": "stream",
     "text": [
      "tensor([[0., 1., 1., 0., 1., 1., 1., 1., 1., 1., 1., 1., 1., 1., 1.],\n",
      "        [1., 0., 1., 1., 1., 1., 0., 0., 1., 1., 0., 1., 1., 0., 1.],\n",
      "        [1., 1., 0., 1., 1., 1., 0., 0., 1., 1., 1., 0., 0., 0., 0.],\n",
      "        [0., 0., 0., 0., 1., 0., 0., 1., 1., 1., 0., 0., 0., 0., 1.],\n",
      "        [1., 1., 1., 1., 0., 0., 1., 1., 1., 1., 1., 1., 1., 0., 1.],\n",
      "        [0., 1., 1., 0., 1., 0., 1., 0., 1., 1., 1., 0., 1., 0., 1.],\n",
      "        [1., 1., 0., 0., 0., 1., 0., 1., 0., 1., 1., 1., 1., 1., 1.],\n",
      "        [1., 0., 1., 1., 1., 0., 1., 0., 1., 1., 0., 0., 0., 0., 0.],\n",
      "        [1., 1., 1., 1., 0., 1., 0., 0., 0., 1., 1., 1., 0., 1., 1.],\n",
      "        [1., 1., 0., 0., 1., 0., 1., 0., 0., 0., 1., 1., 1., 1., 1.],\n",
      "        [1., 1., 1., 1., 1., 0., 0., 0., 1., 1., 0., 1., 1., 1., 1.],\n",
      "        [1., 1., 0., 0., 1., 1., 1., 1., 0., 1., 1., 0., 1., 1., 1.],\n",
      "        [1., 0., 0., 1., 1., 1., 0., 1., 0., 1., 1., 1., 0., 0., 1.],\n",
      "        [0., 1., 1., 1., 1., 0., 1., 1., 1., 0., 1., 0., 0., 0., 1.],\n",
      "        [1., 1., 1., 0., 0., 0., 1., 0., 1., 1., 0., 1., 0., 0., 0.]],\n",
      "       device='cuda:0')\n"
     ]
    }
   ],
   "source": [
    "import torch\n",
    "device = torch.device('cuda' if torch.cuda.is_available() else 'cpu')\n",
    "\n",
    "# First we generate some arbitrary graph\n",
    "def generate_graph(num_nodes, average_out_degree, total_edge_classes):\n",
    "    num_edges = average_out_degree*num_nodes\n",
    "    indices = torch.randint(0, num_nodes, (2, num_edges))\n",
    "    print(indices.size())\n",
    "    edges = torch.ones(num_edges)\n",
    "    print(edges.size())\n",
    "    A = torch.sparse_coo_tensor(indices, edges, (num_nodes, num_nodes))\n",
    "    return A\n",
    "# A = generate_graph(15,3,5).to_dense()\n",
    "\n",
    "# Now maybe it's useful to ensure it's connected...\n",
    "def generate_connected_graph(num_nodes, average_out_degree, total_edge_classes):\n",
    "    edges_set = set()\n",
    "    num_edges = average_out_degree * num_nodes\n",
    "\n",
    "    def sample_random_edge_class():\n",
    "        return torch.randint(0, total_edge_classes, (1,)).item()\n",
    "    \n",
    "    def generate_random_edge():\n",
    "        u, v = torch.randint(0, num_nodes, (2,)).tolist()\n",
    "        #no self loops\n",
    "        while u == v:\n",
    "            u, v = torch.randint(0, num_nodes, (2,)).tolist()\n",
    "        return (u, v)\n",
    "    \n",
    "    def generate_random_node():\n",
    "        return torch.randint(0, num_nodes, (1,)).item()\n",
    "    \n",
    "    def sample_random_node(A):\n",
    "        connected_nodes = A._indices()[1].tolist() #select from incoming to...\n",
    "        if not connected_nodes:\n",
    "            return generate_random_node()\n",
    "        return connected_nodes[torch.randint(0, len(connected_nodes), (1,)).item()]#torch.nonzero(A)\n",
    "    \n",
    "    initial_edge = generate_random_edge()\n",
    "    edges_set.add(initial_edge)\n",
    "    indices = torch.tensor([[initial_edge[0]], [initial_edge[1]]], dtype=torch.long, device=device)\n",
    "    edges = torch.ones(1, device=device)\n",
    "    A = torch.sparse_coo_tensor(indices, edges, (num_nodes, num_nodes), device=device)\n",
    "    \n",
    "    for _ in range(num_edges - 1):\n",
    "        u = sample_random_node(A)\n",
    "        v = generate_random_node()\n",
    "        while u == v:\n",
    "            v = generate_random_node()\n",
    "        new_edge = (u, v)#torch.cat([u, v], dim=0).unsqueeze(1)\n",
    "        if new_edge in edges_set:\n",
    "            continue\n",
    "        edges_set.add(new_edge)\n",
    "        edge_tensor = torch.tensor([[u], [v]], dtype=torch.long, device=device)\n",
    "        indices = torch.cat([indices, edge_tensor], dim=1)\n",
    "        edges = torch.ones(indices.size(1), device=device)\n",
    "        A = torch.sparse_coo_tensor(indices, edges, (num_nodes, num_nodes), device=device)\n",
    "        # indices = torch.stack((indices,torch.cat([u,v]).unsqueeze(1)),dim=0)\n",
    "    # print(edges_set)\n",
    "    \n",
    "    print(A.to_dense())\n",
    "    \n",
    "A = generate_connected_graph(15,15,5)\n",
    "\n",
    "# Now per edge type? or randomly assign edges...? maybe multinomial_sample(1/k)^k?"
   ]
  },
  {
   "cell_type": "code",
   "execution_count": null,
   "id": "399e39e7-e3ff-4fde-a7d7-c17214bace66",
   "metadata": {},
   "outputs": [],
   "source": []
  }
 ],
 "metadata": {
  "kernelspec": {
   "display_name": "Python 3 (ipykernel)",
   "language": "python",
   "name": "python3"
  },
  "language_info": {
   "codemirror_mode": {
    "name": "ipython",
    "version": 3
   },
   "file_extension": ".py",
   "mimetype": "text/x-python",
   "name": "python",
   "nbconvert_exporter": "python",
   "pygments_lexer": "ipython3",
   "version": "3.12.7"
  }
 },
 "nbformat": 4,
 "nbformat_minor": 5
}
